{
 "cells": [
  {
   "cell_type": "markdown",
   "metadata": {},
   "source": [
    "# ・[Find the best scenes with tropical fish in your videos with machine learning.]"
   ]
  },
  {
   "cell_type": "markdown",
   "metadata": {},
   "source": [
    "### ・Learning tropical fish.\n",
    "   - Manually sort 150 photos of fish and 150 photos without fish."
   ]
  },
  {
   "cell_type": "code",
   "execution_count": 4,
   "metadata": {},
   "outputs": [
    {
     "name": "stdout",
     "output_type": "stream",
     "text": [
      "0.9333333333333333\n"
     ]
    },
    {
     "data": {
      "text/plain": [
       "['fish.pkl']"
      ]
     },
     "execution_count": 4,
     "metadata": {},
     "output_type": "execute_result"
    }
   ],
   "source": [
    "import cv2\n",
    "import os, glob\n",
    "from sklearn.model_selection import train_test_split\n",
    "from sklearn import datasets, metrics\n",
    "from sklearn.ensemble import RandomForestClassifier\n",
    "from sklearn.metrics import accuracy_score\n",
    "from sklearn.externals import joblib\n",
    "\n",
    "#! Specify image learning size and path.\n",
    "image_size = (64, 32)\n",
    "path = os.path.dirname(os.path.abspath(\"__file__\"))\n",
    "path_fish = path + \"/fish\"\n",
    "path_nofish = path + \"/nofish\"\n",
    "#! Image data.\n",
    "x = []\n",
    "#! Label data.\n",
    "y = []\n",
    "\n",
    "#! Read image data and add to array.\n",
    "def read_dir(path, label):\n",
    "    files = glob.glob(path + \"/*.jpg\")\n",
    "    for f in files:\n",
    "        img = cv2.imread(f)\n",
    "        img = cv2.resize(img, image_size)\n",
    "        img_data = img.reshape(-1, )\n",
    "        x.append(img_data)\n",
    "        y.append(label)\n",
    "#! Read image data.\n",
    "read_dir(path_nofish, 0)\n",
    "read_dir(path_fish, 1)\n",
    "\n",
    "#! Divide the data for training and testing.\n",
    "x_train, x_test, y_train, y_test = train_test_split(x, y, test_size = 0.2)\n",
    "\n",
    "#! Learn data.\n",
    "clf = RandomForestClassifier(n_estimators=100)\n",
    "clf.fit(x_train, y_train)\n",
    "\n",
    "#! Check accuracy.\n",
    "y_pred = clf.predict(x_test)\n",
    "print(accuracy_score(y_test, y_pred))\n",
    "\n",
    "#! Save the data.\n",
    "joblib.dump(clf, \"fish.pkl\")\n",
    "\n"
   ]
  },
  {
   "cell_type": "markdown",
   "metadata": {},
   "source": [
    "### ・Video analysis.\n",
    "   - The image is recognized again using the PKL data that trained the fish."
   ]
  },
  {
   "cell_type": "code",
   "execution_count": 1,
   "metadata": {},
   "outputs": [
    {
     "name": "stderr",
     "output_type": "stream",
     "text": [
      "C:\\Users\\konan\\Anaconda3\\lib\\site-packages\\sklearn\\externals\\joblib\\__init__.py:15: DeprecationWarning: sklearn.externals.joblib is deprecated in 0.21 and will be removed in 0.23. Please import this functionality directly from joblib, which can be installed with: pip install joblib. If this warning is raised when loading pickled models, you may need to re-serialize those models with scikit-learn 0.21+.\n",
      "  warnings.warn(msg, category=DeprecationWarning)\n"
     ]
    },
    {
     "name": "stdout",
     "output_type": "stream",
     "text": [
      "OK 85 / 1987\n"
     ]
    }
   ],
   "source": [
    "import cv2, os, copy\n",
    "from sklearn.externals import joblib\n",
    "\n",
    "#! Extract the trained data.\n",
    "clf = joblib.load(\"fish.pkl\")\n",
    "output_dir = \"./bestshot\"\n",
    "#! Previous video.\n",
    "img_last = None\n",
    "#! Threshold for output image.\n",
    "fish_th = 3\n",
    "count = 0\n",
    "frame_count = 0\n",
    "if not os.path.isdir(output_dir):\n",
    "    os.mkdir(output_dir)\n",
    "\n",
    "#! Start input from video file.\n",
    "cap = cv2.VideoCapture(\"fish.mp4\")\n",
    "while True:\n",
    "    #! Get image.\n",
    "    is_ok, frame = cap.read()\n",
    "    if not is_ok:\n",
    "        break\n",
    "    frame = cv2.resize(frame, (640, 360))\n",
    "    frame2 = copy.copy(frame)\n",
    "    frame_count += 1\n",
    "    #! Convert to black and white image.\n",
    "    gray = cv2.cvtColor(frame, cv2.COLOR_BGR2GRAY)\n",
    "    gray = cv2.GaussianBlur(gray, (15, 15), 0)\n",
    "    img_b = cv2.threshold(gray, 127, 255, cv2.THRESH_BINARY)[1]\n",
    "    #! Check the difference.\n",
    "    if not img_last is None:\n",
    "        frame_diff = cv2.absdiff(img_last, img_b)\n",
    "        cnts = cv2.findContours(frame_diff, \n",
    "                               cv2.RETR_EXTERNAL,\n",
    "                               cv2.CHAIN_APPROX_SIMPLE)[0]\n",
    "        #! Output the difference area to a file.\n",
    "        fish_count = 0\n",
    "        for pt in cnts:\n",
    "            x, y, w, h = cv2.boundingRect(pt)\n",
    "            #! Noise removal.\n",
    "            if w < 100 or w > 500:\n",
    "                continue\n",
    "            #! Save the extracted area as an image.\n",
    "            imgex = frame[y:y+h, x:x+w]\n",
    "            imagex = cv2.resize(imgex, (64, 32))\n",
    "            image_data = imagex.reshape(-1, )\n",
    "            pred_y = clf.predict([image_data])\n",
    "            if pred_y[0] == 1:\n",
    "                fish_count += 1\n",
    "                cv2.rectangle(frame2, (x, y), (x+w, y+h), (0, 255, 0), 2)\n",
    "        #! Is the fish reflected?\n",
    "        if fish_count > fish_th:\n",
    "            fname = output_dir + \"/fish\" + str(count) + \".jpg\"\n",
    "            cv2.imwrite(fname, frame)\n",
    "            count += 1\n",
    "    cv2.imshow(\"FISH!\", frame2)\n",
    "    #! Press ESC or Enter to exit the loop.\n",
    "    k = cv2.waitKey(1)\n",
    "    if k == 27 or k == 13:\n",
    "        break\n",
    "    img_last = img_b\n",
    "cap.release()\n",
    "cv2.destroyAllWindows()\n",
    "print(\"OK\", count, \"/\", frame_count)\n"
   ]
  },
  {
   "cell_type": "code",
   "execution_count": null,
   "metadata": {},
   "outputs": [],
   "source": []
  }
 ],
 "metadata": {
  "kernelspec": {
   "display_name": "Python 3",
   "language": "python",
   "name": "python3"
  },
  "language_info": {
   "codemirror_mode": {
    "name": "ipython",
    "version": 3
   },
   "file_extension": ".py",
   "mimetype": "text/x-python",
   "name": "python",
   "nbconvert_exporter": "python",
   "pygments_lexer": "ipython3",
   "version": "3.7.4"
  }
 },
 "nbformat": 4,
 "nbformat_minor": 2
}
