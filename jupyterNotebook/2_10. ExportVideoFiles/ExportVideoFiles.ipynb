{
 "cells": [
  {
   "cell_type": "markdown",
   "metadata": {},
   "source": [
    "# ・[Export video files.]"
   ]
  },
  {
   "cell_type": "markdown",
   "metadata": {},
   "source": [
    "### - Movie files can be created by continuously writing images input with OpenCV."
   ]
  },
  {
   "cell_type": "code",
   "execution_count": 2,
   "metadata": {},
   "outputs": [],
   "source": [
    "import cv2\n",
    "import numpy as np\n",
    "\n",
    "#! Start input from camera.\n",
    "cap = cv2.VideoCapture(0)\n",
    "#! Create an object for exporting a movie.\n",
    "# MPEG-4 Video (mpv4) codec.\n",
    "fmt = cv2.VideoWriter_fourcc(\"m\", \"p\", \"4\", \"v\")\n",
    "fps = 20.0\n",
    "size = (640, 360)\n",
    "writer = cv2.VideoWriter(\"test.m4v\", fmt, fps, size)\n",
    "\n",
    "while True:\n",
    "    _, frame = cap.read()\n",
    "    #! Reduce image.\n",
    "    frame = cv2.resize(frame, size)\n",
    "    #! Output image.\n",
    "    writer.write(frame)\n",
    "    #! Also displayed on the window.\n",
    "    cv2.imshow(\"frame\", frame)\n",
    "    #! Press ESC or Enter to exit the loop.\n",
    "    k = cv2.waitKey(1)\n",
    "    if k == 27 or k == 13:\n",
    "        break\n",
    "writer.release()\n",
    "cap.release()\n",
    "#! Destroy the window.\n",
    "cv2.destroyAllWindows()\n"
   ]
  },
  {
   "cell_type": "code",
   "execution_count": null,
   "metadata": {},
   "outputs": [],
   "source": []
  }
 ],
 "metadata": {
  "kernelspec": {
   "display_name": "Python 3",
   "language": "python",
   "name": "python3"
  },
  "language_info": {
   "codemirror_mode": {
    "name": "ipython",
    "version": 3
   },
   "file_extension": ".py",
   "mimetype": "text/x-python",
   "name": "python",
   "nbconvert_exporter": "python",
   "pygments_lexer": "ipython3",
   "version": "3.7.4"
  }
 },
 "nbformat": 4,
 "nbformat_minor": 2
}
