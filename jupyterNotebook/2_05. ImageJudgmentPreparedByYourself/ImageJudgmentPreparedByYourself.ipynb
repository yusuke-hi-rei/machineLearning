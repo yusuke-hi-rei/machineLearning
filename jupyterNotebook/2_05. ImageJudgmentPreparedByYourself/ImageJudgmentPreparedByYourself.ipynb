{
 "cells": [
  {
   "cell_type": "code",
   "execution_count": 7,
   "metadata": {},
   "outputs": [
    {
     "name": "stdout",
     "output_type": "stream",
     "text": [
      "my2.png =  4\n",
      "my2_1.png =  2\n",
      "my4.png =  4\n"
     ]
    }
   ],
   "source": [
    "import cv2\n",
    "from sklearn.externals import joblib\n",
    "#!\n",
    "#! Character judgment function.\n",
    "#!\n",
    "def predict_digit(filename):\n",
    "    # Load trained data.\n",
    "    clf = joblib.load(\"digits.pkl\")\n",
    "    #! Read image files.\n",
    "    my_img = cv2.imread(filename)\n",
    "    #! Match the image data with the learned data.\n",
    "    my_img = cv2.cvtColor(my_img, cv2.COLOR_BGR2GRAY)\n",
    "    my_img = cv2.resize(my_img, (8, 8))\n",
    "    # Black and white reversal.\n",
    "    my_img = 15 - my_img\n",
    "    #! Convert a two-dimensional array to a one-dimensional array.\n",
    "    my_img = my_img.reshape((-1, 64))\n",
    "    #! Predict.\n",
    "    res = clf.predict(my_img)\n",
    "    return res[0]\n",
    "\n",
    "#! \n",
    "#! Load and predict image files.\n",
    "#! \n",
    "n = predict_digit(\"my2.png\")\n",
    "print(\"my2.png = \", str(n))\n",
    "\n",
    "n = predict_digit(\"my2_1.png\")\n",
    "print(\"my2_1.png = \", str(n))\n",
    "\n",
    "n = predict_digit(\"my4.png\")\n",
    "print(\"my4.png = \", str(n))"
   ]
  },
  {
   "cell_type": "code",
   "execution_count": null,
   "metadata": {},
   "outputs": [],
   "source": []
  },
  {
   "cell_type": "code",
   "execution_count": null,
   "metadata": {},
   "outputs": [],
   "source": []
  }
 ],
 "metadata": {
  "kernelspec": {
   "display_name": "Python 3",
   "language": "python",
   "name": "python3"
  },
  "language_info": {
   "codemirror_mode": {
    "name": "ipython",
    "version": 3
   },
   "file_extension": ".py",
   "mimetype": "text/x-python",
   "name": "python",
   "nbconvert_exporter": "python",
   "pygments_lexer": "ipython3",
   "version": "3.7.4"
  }
 },
 "nbformat": 4,
 "nbformat_minor": 2
}
