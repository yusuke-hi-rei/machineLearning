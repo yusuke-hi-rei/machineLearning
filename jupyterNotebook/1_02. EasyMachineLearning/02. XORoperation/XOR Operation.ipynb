{
 "cells": [
  {
   "cell_type": "code",
   "execution_count": 6,
   "metadata": {
    "scrolled": true
   },
   "outputs": [
    {
     "name": "stdout",
     "output_type": "stream",
     "text": [
      "[[0, 0], [1, 0], [0, 1], [1, 1]] の予測結果:  [0 0 0 0]\n",
      "正解率 =  0.5\n"
     ]
    }
   ],
   "source": [
    "#!\n",
    "#! Library import\n",
    "#!\n",
    "# LinearSVC algorithm \n",
    "from sklearn.svm import LinearSVC\n",
    "# Evaluate test results\n",
    "from sklearn.metrics import accuracy_score\n",
    "\n",
    "#!\n",
    "#! Prepare data and results for training.\n",
    "#!\n",
    "# X, Y (traning data)\n",
    "learn_data = [[0,0], [1,0], [0,1], [1,1]]\n",
    "# X XOR Y (result data)\n",
    "learn_label = [0, 1, 1, 0]\n",
    "\n",
    "#!\n",
    "#! Algorithm selection.(LinearSVC)\n",
    "#!\n",
    "# Creatting objects.\n",
    "clf = LinearSVC()\n",
    "\n",
    "#!\n",
    "#! Learning data and results for training. \n",
    "#!\n",
    "# fit() = Machine Learning.\n",
    "clf.fit(learn_data, learn_label)\n",
    "\n",
    "#!\n",
    "#! Predictions from test data.\n",
    "#!\n",
    "test_data = [[0,0], [1,0], [0,1], [1,1]]\n",
    "# predict() = Machine predictions.\n",
    "test_label = clf.predict(test_data)\n",
    "\n",
    "#! \n",
    "#! Evaluation of prediction results.\n",
    "#! \n",
    "print(test_data, \"の予測結果: \", test_label)\n",
    "# accuracy_score = Outputs the correct answer rate.\n",
    "print(\"正解率 = \", accuracy_score([0, 1, 1, 0], test_label))\n",
    "\n",
    "\n"
   ]
  },
  {
   "cell_type": "markdown",
   "metadata": {},
   "source": [
    "- 今回のプログラムではXORの機械学習はできない。\n",
    " - アルゴリズムはそのままで、アルゴリズムに指定するパラメータを調整\n",
    " - アルゴリズムを変更する。"
   ]
  },
  {
   "cell_type": "markdown",
   "metadata": {},
   "source": [
    "- 今回はアルゴリズムをアルゴリズム チートシートから変更して再トライする。"
   ]
  },
  {
   "cell_type": "code",
   "execution_count": 10,
   "metadata": {},
   "outputs": [
    {
     "name": "stdout",
     "output_type": "stream",
     "text": [
      "[[0, 0], [1, 0], [0, 1], [1, 1]] の予測結果:  [0 1 1 0]\n",
      "正解率 =  1.0\n"
     ]
    }
   ],
   "source": [
    "#!\n",
    "#! Library import\n",
    "#!\n",
    "\"\"\"\n",
    "Update **NeighborsClassifier** algorithm \n",
    "\"\"\"\n",
    "from sklearn.neighbors import KNeighborsClassifier\n",
    "\n",
    "# Evaluate test results\n",
    "from sklearn.metrics import accuracy_score\n",
    "\n",
    "#!\n",
    "#! Prepare data and results for training.\n",
    "#!\n",
    "# X, Y (traning data)\n",
    "learn_data = [[0,0], [1,0], [0,1], [1,1]]\n",
    "# X XOR Y (result data)\n",
    "learn_label = [0, 1, 1, 0]\n",
    "\n",
    "#!\n",
    "#! Algorithm selection.(\"KneighborsClassifier\")\n",
    "#!\n",
    "# Creatting objects.\n",
    "\"\"\"\n",
    "Update **KNeighborsClassifier** algorithm \n",
    "\"\"\"\n",
    "clf = KNeighborsClassifier(n_neighbors = 1)\n",
    "\n",
    "#!\n",
    "#! Learning data and results for training. \n",
    "#!\n",
    "# fit() = Machine Learning.\n",
    "clf.fit(learn_data, learn_label)\n",
    "\n",
    "#!\n",
    "#! Predictions from test data.\n",
    "#!\n",
    "test_data = [[0,0], [1,0], [0,1], [1,1]]\n",
    "# predict() = Machine predictions.\n",
    "test_label = clf.predict(test_data)\n",
    "\n",
    "#! \n",
    "#! Evaluation of prediction results.\n",
    "#! \n",
    "print(test_data, \"の予測結果: \", test_label)\n",
    "# accuracy_score = Outputs the correct answer rate.\n",
    "print(\"正解率 = \", accuracy_score([0, 1, 1, 0], test_label))\n",
    "\n"
   ]
  },
  {
   "cell_type": "code",
   "execution_count": null,
   "metadata": {},
   "outputs": [],
   "source": []
  }
 ],
 "metadata": {
  "kernelspec": {
   "display_name": "Python 3",
   "language": "python",
   "name": "python3"
  },
  "language_info": {
   "codemirror_mode": {
    "name": "ipython",
    "version": 3
   },
   "file_extension": ".py",
   "mimetype": "text/x-python",
   "name": "python",
   "nbconvert_exporter": "python",
   "pygments_lexer": "ipython3",
   "version": "3.7.4"
  }
 },
 "nbformat": 4,
 "nbformat_minor": 2
}
