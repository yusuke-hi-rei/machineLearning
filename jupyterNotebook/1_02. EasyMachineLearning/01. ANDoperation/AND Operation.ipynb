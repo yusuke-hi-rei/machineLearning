{
 "cells": [
  {
   "cell_type": "code",
   "execution_count": 6,
   "metadata": {},
   "outputs": [
    {
     "name": "stdout",
     "output_type": "stream",
     "text": [
      "[[0, 0], [1, 0], [0, 1], [1, 1]] の予測結果:  [0 0 0 1]\n",
      "正解率 =  1.0\n"
     ]
    }
   ],
   "source": [
    "#!\n",
    "#! Library import\n",
    "#!\n",
    "# LinearSVC algorithm \n",
    "from sklearn.svm import LinearSVC\n",
    "# Evaluate test results\n",
    "from sklearn.metrics import accuracy_score\n",
    "\n",
    "#!\n",
    "#! Prepare data and results for training.\n",
    "#!\n",
    "# X, Y (traning data)\n",
    "learn_data = [[0,0], [1,0], [0,1], [1,1]]\n",
    "# X AND Y (result data)\n",
    "learn_label = [0, 0, 0, 1]\n",
    "\n",
    "#!\n",
    "#! Algorithm selection.(LinearSVC)\n",
    "#!\n",
    "# Creatting objects.\n",
    "clf = LinearSVC()\n",
    "\n",
    "#!\n",
    "#! Learning data and results for training. \n",
    "#!\n",
    "# fit() = Machine Learning.\n",
    "clf.fit(learn_data, learn_label)\n",
    "\n",
    "#!\n",
    "#! Predictions from test data.\n",
    "#!\n",
    "test_data = [[0,0], [1,0], [0,1], [1,1]]\n",
    "# predict() = Machine predictions.\n",
    "test_label = clf.predict(test_data)\n",
    "\n",
    "#! \n",
    "#! Evaluation of prediction results.\n",
    "#! \n",
    "print(test_data, \"の予測結果: \", test_label)\n",
    "# accuracy_score = Outputs the correct answer rate.\n",
    "print(\"正解率 = \", accuracy_score([0, 0, 0, 1], test_label))\n",
    "\n",
    "\n",
    "\n",
    "\n",
    "\n",
    "\n",
    "\n",
    "\n",
    "\n",
    "\n"
   ]
  },
  {
   "cell_type": "code",
   "execution_count": null,
   "metadata": {},
   "outputs": [],
   "source": []
  },
  {
   "cell_type": "code",
   "execution_count": null,
   "metadata": {},
   "outputs": [],
   "source": []
  }
 ],
 "metadata": {
  "kernelspec": {
   "display_name": "Python 3",
   "language": "python",
   "name": "python3"
  },
  "language_info": {
   "codemirror_mode": {
    "name": "ipython",
    "version": 3
   },
   "file_extension": ".py",
   "mimetype": "text/x-python",
   "name": "python",
   "nbconvert_exporter": "python",
   "pygments_lexer": "ipython3",
   "version": "3.7.4"
  }
 },
 "nbformat": 4,
 "nbformat_minor": 2
}
