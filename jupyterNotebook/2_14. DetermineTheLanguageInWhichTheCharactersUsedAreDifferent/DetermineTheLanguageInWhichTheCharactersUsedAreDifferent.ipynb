{
 "cells": [
  {
   "cell_type": "markdown",
   "metadata": {},
   "source": [
    "# ・[Determine the language in which the characters used are different.]"
   ]
  },
  {
   "cell_type": "code",
   "execution_count": 8,
   "metadata": {},
   "outputs": [
    {
     "name": "stdout",
     "output_type": "stream",
     "text": [
      "['en' 'th' 'ja']\n",
      "<<Accuracy rate>> 1.0\n"
     ]
    }
   ],
   "source": [
    "import numpy as np\n",
    "from sklearn.naive_bayes import GaussianNB\n",
    "from sklearn.metrics import accuracy_score\n",
    "\n",
    "def count_codePoint(str):\n",
    "    #! Prepare an array with Unicode code points as addresses.\n",
    "    counter = np.zeros(65535)\n",
    "    \n",
    "    for i in range(len(str)):\n",
    "        #!  Converts each character to a Unicode code point.\n",
    "        code_point = ord(str[i])\n",
    "        if code_point > 65535:\n",
    "            continue\n",
    "        #! Increment the number of occurrences of the corresponding address.\n",
    "        counter[code_point] += 1\n",
    "    #! Normalize by dividing each element by the number of characters.\n",
    "    counter = counter / len(str)\n",
    "    return counter\n",
    "\n",
    "#! Data for training.\n",
    "ja_str = \"これは日本語の文章です。\"\n",
    "en_str = \"This is English Sentences.\"\n",
    "th_str = \"นี่เป็นประโยคภาษาไทย\"\n",
    "\n",
    "x_train = [count_codePoint(ja_str), count_codePoint(en_str), count_codePoint(th_str)]\n",
    "y_train = [\"ja\", \"en\", \"th\"]\n",
    "\n",
    "#! Machine learning.\n",
    "clf = GaussianNB()\n",
    "clf.fit(x_train, y_train)\n",
    "\n",
    "#! Preparation of data for evaluation\n",
    "ja_test_str = \"最近のＷｉｎｄｏｗｓはＷｉｎｄｏｗｓ１０です\"\n",
    "en_test_str = \"Hello\"\n",
    "th_test_str = \"สวัสดี\"\n",
    "\n",
    "x_test = [count_codePoint(en_test_str), count_codePoint(th_test_str), count_codePoint(ja_test_str)]\n",
    "y_test = [\"en\", \"th\", \"ja\"]\n",
    "\n",
    "#! Predict.\n",
    "y_pred = clf.predict(x_test)\n",
    "print(y_pred)\n",
    "\n",
    "print(\"<<Accuracy rate>>\", accuracy_score(y_test, y_pred))\n"
   ]
  },
  {
   "cell_type": "code",
   "execution_count": null,
   "metadata": {},
   "outputs": [],
   "source": []
  },
  {
   "cell_type": "code",
   "execution_count": null,
   "metadata": {},
   "outputs": [],
   "source": []
  }
 ],
 "metadata": {
  "kernelspec": {
   "display_name": "Python 3",
   "language": "python",
   "name": "python3"
  },
  "language_info": {
   "codemirror_mode": {
    "name": "ipython",
    "version": 3
   },
   "file_extension": ".py",
   "mimetype": "text/x-python",
   "name": "python",
   "nbconvert_exporter": "python",
   "pygments_lexer": "ipython3",
   "version": "3.7.4"
  }
 },
 "nbformat": 4,
 "nbformat_minor": 2
}
