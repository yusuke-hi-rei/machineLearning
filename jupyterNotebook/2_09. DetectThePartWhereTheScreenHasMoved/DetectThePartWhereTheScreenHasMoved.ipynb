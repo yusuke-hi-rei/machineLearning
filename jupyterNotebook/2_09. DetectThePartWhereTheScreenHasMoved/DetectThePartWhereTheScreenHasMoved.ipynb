{
 "cells": [
  {
   "cell_type": "markdown",
   "metadata": {},
   "source": [
    "# ・DetectThePartWhereTheScreenHasMoved"
   ]
  },
  {
   "cell_type": "code",
   "execution_count": 7,
   "metadata": {},
   "outputs": [],
   "source": [
    "import cv2\n",
    "\n",
    "#! Start input from web camera.\n",
    "cap = cv2.VideoCapture(0)\n",
    "#! Variable to store previous image.\n",
    "img_last = None\n",
    "green = (0, 255, 0)\n",
    "\n",
    "while True:\n",
    "    #! Load the camera image.\n",
    "    _, frame = cap.read()\n",
    "    #! Reduce the image.\n",
    "    frame = cv2.resize(frame, (500, 300))\n",
    "    #! Convert to black and white image.\n",
    "    gray = cv2.cvtColor(frame, cv2.COLOR_BGR2GRAY)\n",
    "    gray = cv2.GaussianBlur(gray, (9, 9), 0)\n",
    "    img_b = cv2.threshold(gray, 100, 255, cv2.THRESH_BINARY)[1]\n",
    "    #! Check the difference.\n",
    "    if img_last is None:\n",
    "        img_last = img_b\n",
    "        continue\n",
    "    frame_diff = cv2.absdiff(img_last, img_b)\n",
    "    cnts = cv2.findContours(frame_diff, cv2.RETR_EXTERNAL, cv2.CHAIN_APPROX_SIMPLE)[0]\n",
    "    #! Draw the point where there was a difference.\n",
    "    for pt in cnts:\n",
    "        x, y, w, h = cv2.boundingRect(pt)\n",
    "        #! Minor changes have been removed.\n",
    "        if w < 30:\n",
    "            continue\n",
    "        cv2.rectangle(frame, (x, y), (x+w, y+h), green, 2)\n",
    "    #! Save this frame.\n",
    "    img_last = img_b\n",
    "    #! Show on screen\n",
    "    cv2.imshow(\"Diff Camera\", frame)\n",
    "    cv2.imshow(\"diff data\", frame_diff)\n",
    "    #! Press ESC or Enter to exit the loop.\n",
    "    k = cv2.waitKey(1)\n",
    "    if k == 27 or k == 13:\n",
    "        break\n",
    "#! Release the camera.\n",
    "cap.release()\n",
    "#! Destroy window.\n",
    "cv2.destroyAllWindows()"
   ]
  },
  {
   "cell_type": "code",
   "execution_count": null,
   "metadata": {},
   "outputs": [],
   "source": []
  },
  {
   "cell_type": "code",
   "execution_count": null,
   "metadata": {},
   "outputs": [],
   "source": []
  }
 ],
 "metadata": {
  "kernelspec": {
   "display_name": "Python 3",
   "language": "python",
   "name": "python3"
  },
  "language_info": {
   "codemirror_mode": {
    "name": "ipython",
    "version": 3
   },
   "file_extension": ".py",
   "mimetype": "text/x-python",
   "name": "python",
   "nbconvert_exporter": "python",
   "pygments_lexer": "ipython3",
   "version": "3.7.4"
  }
 },
 "nbformat": 4,
 "nbformat_minor": 2
}
