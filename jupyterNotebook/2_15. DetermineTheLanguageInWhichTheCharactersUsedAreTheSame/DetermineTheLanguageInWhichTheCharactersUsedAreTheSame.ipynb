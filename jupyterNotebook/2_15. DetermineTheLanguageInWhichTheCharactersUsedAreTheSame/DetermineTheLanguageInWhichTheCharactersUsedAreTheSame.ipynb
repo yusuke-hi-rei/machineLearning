{
 "cells": [
  {
   "cell_type": "markdown",
   "metadata": {},
   "source": [
    "# ・[Determine the language in which the characters used are the same.]"
   ]
  },
  {
   "cell_type": "code",
   "execution_count": 4,
   "metadata": {},
   "outputs": [
    {
     "name": "stdout",
     "output_type": "stream",
     "text": [
      "['de' 'en' 'es']\n",
      "<<Accuracy rate>> 1.0\n"
     ]
    }
   ],
   "source": [
    "import numpy as np\n",
    "from sklearn.naive_bayes import GaussianNB\n",
    "from sklearn.metrics import accuracy_score\n",
    "import glob\n",
    "\n",
    "#! Unicode code point frequency measurement.\n",
    "def count_codePoint(str):\n",
    "    #! Prepare an array with Unicode code points as addresses.\n",
    "    counter = np.zeros(65535)\n",
    "    \n",
    "    for i in range(len(str)):\n",
    "        #!  Converts each character to a Unicode code point.\n",
    "        code_point = ord(str[i])\n",
    "        if code_point > 65535:\n",
    "            continue\n",
    "        #! Increment the number of occurrences of the corresponding address.\n",
    "        counter[code_point] += 1\n",
    "    #! Normalize by dividing each element by the number of characters.\n",
    "    counter = counter / len(str)\n",
    "    return counter\n",
    "\n",
    "#! Data for training.\n",
    "index = 0\n",
    "x_train = []\n",
    "y_train = []\n",
    "for file in glob.glob(\"./train/*.txt\"):\n",
    "    #! Get language information and set as label.\n",
    "    y_train.append(file[8:10])\n",
    "    #! After concatenating the strings in the file, measure the frequency of Unicode code points and set it as input data.\n",
    "    file_str = \"\"\n",
    "    for line in open(file, \"r\", encoding=\"utf-8\"):\n",
    "        file_str = file_str + line\n",
    "    x_train.append(count_codePoint(file_str))\n",
    "    \n",
    "#! Machine learning.\n",
    "clf = GaussianNB()\n",
    "clf.fit(x_train, y_train)\n",
    "\n",
    "#! Preparation of data for evaluation\n",
    "index = 0\n",
    "x_test = []\n",
    "y_test = []\n",
    "for file in glob.glob(\"./test/*.txt\"):\n",
    "    #! Get language information and set as label.\n",
    "    y_test.append(file[7:9])\n",
    "    \n",
    "    file_str = \"\"\n",
    "    for line in open(file, \"r\", encoding=\"utf-8\"):\n",
    "        file_str = file_str + line\n",
    "    x_test.append(count_codePoint(file_str))\n",
    "\n",
    "#! Predict.\n",
    "y_pred = clf.predict(x_test)\n",
    "print(y_pred)\n",
    "\n",
    "print(\"<<Accuracy rate>>\", accuracy_score(y_test, y_pred))"
   ]
  },
  {
   "cell_type": "code",
   "execution_count": null,
   "metadata": {},
   "outputs": [],
   "source": []
  }
 ],
 "metadata": {
  "kernelspec": {
   "display_name": "Python 3",
   "language": "python",
   "name": "python3"
  },
  "language_info": {
   "codemirror_mode": {
    "name": "ipython",
    "version": 3
   },
   "file_extension": ".py",
   "mimetype": "text/x-python",
   "name": "python",
   "nbconvert_exporter": "python",
   "pygments_lexer": "ipython3",
   "version": "3.7.4"
  }
 },
 "nbformat": 4,
 "nbformat_minor": 2
}
