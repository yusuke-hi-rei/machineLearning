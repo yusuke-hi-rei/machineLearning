{
 "cells": [
  {
   "cell_type": "markdown",
   "metadata": {},
   "source": [
    "# ・[Extract scenes with tropical fish from video.]"
   ]
  },
  {
   "cell_type": "code",
   "execution_count": 5,
   "metadata": {},
   "outputs": [
    {
     "name": "stdout",
     "output_type": "stream",
     "text": [
      "OK\n"
     ]
    }
   ],
   "source": [
    "import cv2, os\n",
    "\n",
    "#! Previous video.\n",
    "img_last = None\n",
    "#! Number of images.\n",
    "no = 0\n",
    "#! Save directory.\n",
    "save_dir = \"./exfish\"\n",
    "#! Create a directory.\n",
    "os.mkdir(save_dir)\n",
    "\n",
    "#! Start input from video file.\n",
    "cap = cv2.VideoCapture(\"fish.mp4\")\n",
    "while True:\n",
    "    #! Get image.\n",
    "    is_ok, frame = cap.read()\n",
    "    if not is_ok:\n",
    "        break\n",
    "    frame = cv2.resize(frame, (640, 360))\n",
    "    #! Convert to black and white image.\n",
    "    gray = cv2.cvtColor(frame, cv2.COLOR_BGR2GRAY)\n",
    "    gray = cv2.GaussianBlur(gray, (15, 15), 0)\n",
    "    img_b = cv2.threshold(gray, 127, 255, cv2.THRESH_BINARY)[1]\n",
    "    #! Check the difference.\n",
    "    if not img_last is None:\n",
    "        frame_diff = cv2.absdiff(img_last, img_b)\n",
    "        cnts = cv2.findContours(frame_diff, \n",
    "                               cv2.RETR_EXTERNAL,\n",
    "                               cv2.CHAIN_APPROX_SIMPLE)[0]\n",
    "        #! Output the difference area to a file.\n",
    "        for pt in cnts:\n",
    "            x, y, w, h = cv2.boundingRect(pt)\n",
    "            #! Noise removal.\n",
    "            if w < 100 or w > 500:\n",
    "                continue\n",
    "            #! Save the extracted area as an image.\n",
    "            imgex = frame[y:y+h, x:x+w]\n",
    "            outfile = save_dir + \"/\" + str(no) + \".jpg\"\n",
    "            cv2.imwrite(outfile, imgex)\n",
    "            no += 1\n",
    "    img_last = img_b\n",
    "cap.release()\n",
    "print(\"OK\")\n",
    "        \n",
    "    \n",
    "    \n",
    "    \n",
    "    \n",
    "    "
   ]
  },
  {
   "cell_type": "code",
   "execution_count": null,
   "metadata": {},
   "outputs": [],
   "source": []
  }
 ],
 "metadata": {
  "kernelspec": {
   "display_name": "Python 3",
   "language": "python",
   "name": "python3"
  },
  "language_info": {
   "codemirror_mode": {
    "name": "ipython",
    "version": 3
   },
   "file_extension": ".py",
   "mimetype": "text/x-python",
   "name": "python",
   "nbconvert_exporter": "python",
   "pygments_lexer": "ipython3",
   "version": "3.7.4"
  }
 },
 "nbformat": 4,
 "nbformat_minor": 2
}
