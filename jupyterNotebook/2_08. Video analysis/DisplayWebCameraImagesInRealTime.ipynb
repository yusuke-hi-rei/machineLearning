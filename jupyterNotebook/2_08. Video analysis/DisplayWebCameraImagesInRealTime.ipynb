{
 "cells": [
  {
   "cell_type": "markdown",
   "metadata": {},
   "source": [
    "# ・[Display web camera images in real time.]"
   ]
  },
  {
   "cell_type": "markdown",
   "metadata": {},
   "source": [
    "### 1.Execute camera-sample.py on the command line."
   ]
  },
  {
   "cell_type": "code",
   "execution_count": 1,
   "metadata": {},
   "outputs": [],
   "source": [
    "import cv2\n",
    "import numpy as np\n",
    "\n",
    "#! Start input from web camera.\n",
    "cap = cv2.VideoCapture(0)\n",
    "while True:\n",
    "    #! Load the camera image.\n",
    "    _, frame = cap.read()\n",
    "    #! Reduce the image.\n",
    "    frame = cv2.resize(frame, (500, 300))\n",
    "    #! Output image to window.\n",
    "    cv2.imshow(\"OpenCV Web Camera\", frame)\n",
    "    #! Press ESC or Enter to exit the loop.\n",
    "    k = cv2.waitKey(1)\n",
    "    if k == 27 or k == 13:\n",
    "        break\n",
    "#! Release the camera.\n",
    "cap.release()\n",
    "#! Destroy window.\n",
    "cv2.destroyAllWindows()"
   ]
  },
  {
   "cell_type": "markdown",
   "metadata": {},
   "source": [
    "### 2. Displays only the red component from the camera image."
   ]
  },
  {
   "cell_type": "code",
   "execution_count": 5,
   "metadata": {},
   "outputs": [],
   "source": [
    "import cv2\n",
    "import numpy as np\n",
    "\n",
    "#! Start input from web camera.\n",
    "cap = cv2.VideoCapture(0)\n",
    "while True:\n",
    "    #! Load the camera image.\n",
    "    _, frame = cap.read()\n",
    "    #! Reduce the image.\n",
    "    frame = cv2.resize(frame, (500, 300))\n",
    "    #! Set the blue and green components to 0.\n",
    "    frame[:, :, 0] = 0\n",
    "    frame[:, :, 1] = 0\n",
    "    #frame[:, :, 2] = 0 Red is 2.\n",
    "    #! Output image to window.\n",
    "    cv2.imshow(\"RED Camera\", frame)\n",
    "    #! Press ESC or Enter to exit the loop.\n",
    "    k = cv2.waitKey(1)\n",
    "    if k == 27 or k == 13:\n",
    "        break\n",
    "#! Release the camera.\n",
    "cap.release()\n",
    "#! Destroy window.\n",
    "cv2.destroyAllWindows()"
   ]
  },
  {
   "cell_type": "markdown",
   "metadata": {},
   "source": [
    "### ・Extract the reddish part of the hue and display it in white."
   ]
  },
  {
   "cell_type": "code",
   "execution_count": 12,
   "metadata": {},
   "outputs": [],
   "source": [
    "import cv2\n",
    "import numpy as np\n",
    "\n",
    "#! Start input from web camera.\n",
    "cap = cv2.VideoCapture(0)\n",
    "while True:\n",
    "    #! Load the camera image.\n",
    "    _, frame = cap.read()\n",
    "    #! Reduce the image.\n",
    "    frame = cv2.resize(frame, (500, 300))\n",
    "    #! Convert color space to HSV.\n",
    "    hsv = cv2.cvtColor(frame, cv2.COLOR_BGR2HSV_FULL)\n",
    "    #! Split HSV.\n",
    "    h = hsv[:, :, 0]\n",
    "    s = hsv[:, :, 1]\n",
    "    v = hsv[:, :, 2]\n",
    "    #! Only pixels with a reddish color are extracted.\n",
    "    img = np.zeros(h.shape, dtype=np.uint8)\n",
    "    # print(img)\n",
    "    img[((h < 50) | (h > 200)) & (s > 100)] = 255\n",
    "    #! Output image to window.\n",
    "    cv2.imshow(\"RED Camera\", img)\n",
    "    #! Press ESC or Enter to exit the loop.\n",
    "    k = cv2.waitKey(1)\n",
    "    if k == 27 or k == 13:\n",
    "        break\n",
    "#! Release the camera.\n",
    "cap.release()\n",
    "#! Destroy window.\n",
    "cv2.destroyAllWindows()"
   ]
  },
  {
   "cell_type": "code",
   "execution_count": null,
   "metadata": {},
   "outputs": [],
   "source": []
  }
 ],
 "metadata": {
  "kernelspec": {
   "display_name": "Python 3",
   "language": "python",
   "name": "python3"
  },
  "language_info": {
   "codemirror_mode": {
    "name": "ipython",
    "version": 3
   },
   "file_extension": ".py",
   "mimetype": "text/x-python",
   "name": "python",
   "nbconvert_exporter": "python",
   "pygments_lexer": "ipython3",
   "version": "3.7.4"
  }
 },
 "nbformat": 4,
 "nbformat_minor": 2
}
